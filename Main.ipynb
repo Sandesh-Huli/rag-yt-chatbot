{
 "cells": [
  {
   "cell_type": "code",
   "execution_count": 1,
   "id": "81faf404-7c2e-418f-b4af-e484bc30cc58",
   "metadata": {},
   "outputs": [],
   "source": [
    "from youtube_transcript_api import YouTubeTranscriptApi, TranscriptsDisabled, NoTranscriptFound\n",
    "from langchain.text_splitter import RecursiveCharacterTextSplitter\n",
    "# from langchain_ import OpenAIEmbeddings, ChatOpenAI\n",
    "import os\n",
    "from dotenv import load_dotenv\n",
    "from langchain_google_genai import ChatGoogleGenerativeAI, GoogleGenerativeAIEmbeddings\n",
    "from langchain_community.vectorstores import FAISS\n",
    "from langchain_core.prompts import PromptTemplate\n",
    "from langchain_core.runnables import RunnableParallel, RunnablePassthrough, RunnableLambda\n",
    "from langchain_core.output_parsers import StrOutputParser"
   ]
  },
  {
   "cell_type": "code",
   "execution_count": 2,
   "id": "822aeca1-f79e-4c0e-8139-035092cbbf1e",
   "metadata": {},
   "outputs": [
    {
     "data": {
      "text/plain": [
       "True"
      ]
     },
     "execution_count": 2,
     "metadata": {},
     "output_type": "execute_result"
    }
   ],
   "source": [
    "load_dotenv()"
   ]
  },
  {
   "cell_type": "code",
   "execution_count": 3,
   "id": "17058c55-d784-47fd-955c-fb5d9715559e",
   "metadata": {},
   "outputs": [],
   "source": [
    "api_key = os.getenv(\"GOOGLE_API_KEY\")"
   ]
  },
  {
   "cell_type": "code",
   "execution_count": 4,
   "id": "457639ab-9c23-4230-93ce-818e9ee4cffb",
   "metadata": {},
   "outputs": [],
   "source": [
    "video_id = \"I2ZK3ngNvvI\""
   ]
  },
  {
   "cell_type": "code",
   "execution_count": 5,
   "id": "be7e825d-6475-4578-8b76-ddca0459c03b",
   "metadata": {},
   "outputs": [
    {
     "name": "stdout",
     "output_type": "stream",
     "text": [
      "you're one of the greatest teachers of machine learning AI ever from cs231n to today what advice would you give to beginners interested in getting into machine learning beginners are often focused on like what to do and I think the focus should be more like how much you do so I I'm kind of like believer on a high level in this 10 000 hours kind of concept where you just kind of have to just pick the things where you can spend time and you you care about and you're interested in you literally have to put in 10 000 hours of work um it doesn't even like matter as much like where you put it and you'll iterate and you'll improve and you'll waste some time I don't know if there's a better way you need to put in 10 000 hours but I think it's actually really nice because I feel like there's some sense of determinism about being an expert at a thing if you spend ten thousand hours you can literally pick an arbitrary thing and I think if you spend ten thousand hours of deliberate effort and work you actually will become an expert at it and so I think it's kind of like a nice thought um and so uh basically I would focus more on like are you spending ten thousand hours that's what I'm focus on so and then thinking about what kind of mechanisms maximize your likelihood of getting to ten thousand dollars exactly which for us silly humans means probably forming a daily habit of like every single day actually doing the thing whatever helps you so I do think to a large extent is a psychological problem for yourself uh one other thing that I hope that I think is helpful for the psychology of it is many times people compare themselves to others in the area I think this is very harmful only compare yourself to you from some time ago like say a year ago are you better than you year ago this is the only way to think um and I think this then you can see your progress and it's very motivating that's so interesting that focus on the quantity of ours because I think a lot of people uh in the beginner stage but actually throughout get paralyzed uh by uh the choice like which one do I pick this path or this path yeah like they'll literally get paralyzed by like which ID to use well they're worried yeah they're worried about all these things but the thing is some of the you you will waste time doing something wrong yes you will eventually figure out it's not right you will accumulate scar tissue and next time you'll grow stronger because next time you'll have the scar tissue and next time you'll learn from it and now next time you come into a similar situation you'll be like all right I messed up I've spent a lot of time working on things that never materialize into anything and I have all that scar tissue and I have some intuitions about what was useful what wasn't useful how things turned out so all those mistakes were uh were not dead work you know so I just think you should just focus on working what have you done what have you done last week uh that's a good question actually to ask for for a lot of things not just machine learning um it's a good way to cut the the I forgot what the term will use but the fluff the blubber whatever the uh the inefficiencies in life uh what do you love about teaching you seem to find yourself often in the like drawn to teaching you're very good at it but you're also drawn to it I mean I don't think I love teaching I love happy humans and happy humans like when I teach yes I I wouldn't say I hate teaching I tolerate teaching but it's not like the act of teaching that I like it's it's that um you know I I have some I have something I'm actually okay at it yes I'm okay at teaching and people appreciate it a lot yeah and uh so I'm just happy to try to be helpful and uh teaching itself is not like the most I mean it's really no it can be really annoying frustrating I was working on a bunch of lectures just now I was reminded back to my days of 231 and just how much work it is to create some of these materials and make them good the amount of iteration and thought and you go down blind alleys and just how much you change it so creating something good um in terms of like educational value is really hard and uh it's not fun it's difficult so for people should definitely go watch your new stuff you put out there are lectures where you're actually building the thing like from like you said the code is truth so discussing uh back propagation by building it by looking through and just the whole thing so how difficult is that to prepare for I think that's a really powerful way to teach how did you have to prepare for that or are you just live thinking through it I will typically do like say three takes and then I take like the the better take uh so I do multiple takes and I take some of the better takes and then I just build out a lecture that way uh sometimes I have to delete 30 minutes of content because it just went down in alley that I didn't like too much there's about a bunch of iteration and it probably takes me you know somewhere around 10 hours to create one hour of content to give one hour it's interesting I mean is it difficult to go back to the like the basics do you draw a lot of like wisdom from going back to the basics yeah going back to back propagation loss functions where they come from and one thing I like about teaching a lot honestly is it definitely strengthens your understanding uh so it's not a purely altruistic activity it's a way to learn if you have to explain something to someone uh you realize you have gaps in knowledge uh and so I even surprised myself in those lectures like also the result will obviously look at this and then the result doesn't look like it and I'm like okay I thought I understood yeah but that's why it's really cool to literally code you run it in a notebook and it gives you a result and you're like oh wow yes and like actual numbers actual input X you know actual code yeah it's not mathematical symbols Etc the source of Truth is the code it's not slides it's just like let's build it it's beautiful you're a rare human in that sense\n"
     ]
    }
   ],
   "source": [
    "try:\n",
    "    api = YouTubeTranscriptApi()\n",
    "    transcripts = api.list(video_id)\n",
    "\n",
    "    # Pick English transcript\n",
    "    transcript_obj = transcripts.find_transcript(['en'])\n",
    "\n",
    "    # Fetch the actual list of snippets\n",
    "    transcript_list = transcript_obj.fetch()\n",
    "\n",
    "    # Flatten into plain text (using .text, not ['text'])\n",
    "    transcript = \" \".join(chunk.text for chunk in transcript_list)\n",
    "    print(transcript)\n",
    "\n",
    "except TranscriptsDisabled:\n",
    "    print(\"Transcripts are disabled for this video.\")\n",
    "except NoTranscriptFound:\n",
    "    print(\"No transcript found for this video.\")"
   ]
  },
  {
   "cell_type": "code",
   "execution_count": 6,
   "id": "1b439ab2-5104-49ce-9ef1-b9116703f67c",
   "metadata": {},
   "outputs": [],
   "source": [
    "splitter = RecursiveCharacterTextSplitter(chunk_size=1000, chunk_overlap=200)\n",
    "chunks = splitter.create_documents([transcript])"
   ]
  },
  {
   "cell_type": "code",
   "execution_count": 7,
   "id": "ab4f605f-93aa-4e6d-93ac-0e1d66463d58",
   "metadata": {},
   "outputs": [],
   "source": [
    "embeddings = GoogleGenerativeAIEmbeddings(model=\"models/gemini-embedding-001\")"
   ]
  },
  {
   "cell_type": "code",
   "execution_count": 8,
   "id": "58b30500-01b5-46f0-9a19-6300e7da92ce",
   "metadata": {},
   "outputs": [],
   "source": [
    "vector_store = FAISS.from_documents(chunks, embeddings)"
   ]
  },
  {
   "cell_type": "code",
   "execution_count": 9,
   "id": "d0a848d6-d519-444c-88d9-d686a4d78326",
   "metadata": {},
   "outputs": [
    {
     "data": {
      "text/plain": [
       "{0: '239a4e3b-8b92-4658-b99b-c36310da3803',\n",
       " 1: 'afc448ea-e665-493d-874f-c7e33bac45b1',\n",
       " 2: '858082c8-2064-49d1-8fe9-a0b10f0206a9',\n",
       " 3: '4336fed9-e9a7-4819-947d-10a2ba56608a',\n",
       " 4: '23eee3e8-6f91-4ca6-a6db-4b901135f918',\n",
       " 5: '19692faa-1c92-4802-a08e-77c3194efef8',\n",
       " 6: 'fc491918-e171-4e3f-a04c-cadd962620be',\n",
       " 7: '62302ed5-00a5-4157-b202-cb2cc1794d3b'}"
      ]
     },
     "execution_count": 9,
     "metadata": {},
     "output_type": "execute_result"
    }
   ],
   "source": [
    "vector_store.index_to_docstore_id"
   ]
  },
  {
   "cell_type": "code",
   "execution_count": 10,
   "id": "6ec2dad3-0c4e-447f-ae64-ca3b33aa3963",
   "metadata": {},
   "outputs": [],
   "source": [
    "retriever = vector_store.as_retriever(search_type=\"similarity\", search_kwargs={\"k\": 4})"
   ]
  },
  {
   "cell_type": "code",
   "execution_count": 11,
   "id": "6d106cc3-714a-4575-b0f9-acc9fa6ece13",
   "metadata": {},
   "outputs": [],
   "source": [
    "question          = \"what is the conversation going on?\"\n",
    "retrieved_docs    = retriever.invoke(question)"
   ]
  },
  {
   "cell_type": "code",
   "execution_count": 12,
   "id": "00af0071-1b61-43c3-ae7e-9248d3895d5f",
   "metadata": {},
   "outputs": [
    {
     "data": {
      "text/plain": [
       "\"like also the result will obviously look at this and then the result doesn't look like it and I'm like okay I thought I understood yeah but that's why it's really cool to literally code you run it in a notebook and it gives you a result and you're like oh wow yes and like actual numbers actual input X you know actual code yeah it's not mathematical symbols Etc the source of Truth is the code it's not slides it's just like let's build it it's beautiful you're a rare human in that sense\\n\\nis many times people compare themselves to others in the area I think this is very harmful only compare yourself to you from some time ago like say a year ago are you better than you year ago this is the only way to think um and I think this then you can see your progress and it's very motivating that's so interesting that focus on the quantity of ours because I think a lot of people uh in the beginner stage but actually throughout get paralyzed uh by uh the choice like which one do I pick this path or this path yeah like they'll literally get paralyzed by like which ID to use well they're worried yeah they're worried about all these things but the thing is some of the you you will waste time doing something wrong yes you will eventually figure out it's not right you will accumulate scar tissue and next time you'll grow stronger because next time you'll have the scar tissue and next time you'll learn from it and now next time you come into a similar situation you'll be like all right\\n\\nuh what do you love about teaching you seem to find yourself often in the like drawn to teaching you're very good at it but you're also drawn to it I mean I don't think I love teaching I love happy humans and happy humans like when I teach yes I I wouldn't say I hate teaching I tolerate teaching but it's not like the act of teaching that I like it's it's that um you know I I have some I have something I'm actually okay at it yes I'm okay at teaching and people appreciate it a lot yeah and uh so I'm just happy to try to be helpful and uh teaching itself is not like the most I mean it's really no it can be really annoying frustrating I was working on a bunch of lectures just now I was reminded back to my days of 231 and just how much work it is to create some of these materials and make them good the amount of iteration and thought and you go down blind alleys and just how much you change it so creating something good um in terms of like educational value is really hard and uh it's not\\n\\ntissue and next time you'll grow stronger because next time you'll have the scar tissue and next time you'll learn from it and now next time you come into a similar situation you'll be like all right I messed up I've spent a lot of time working on things that never materialize into anything and I have all that scar tissue and I have some intuitions about what was useful what wasn't useful how things turned out so all those mistakes were uh were not dead work you know so I just think you should just focus on working what have you done what have you done last week uh that's a good question actually to ask for for a lot of things not just machine learning um it's a good way to cut the the I forgot what the term will use but the fluff the blubber whatever the uh the inefficiencies in life uh what do you love about teaching you seem to find yourself often in the like drawn to teaching you're very good at it but you're also drawn to it I mean I don't think I love teaching I love happy\""
      ]
     },
     "execution_count": 12,
     "metadata": {},
     "output_type": "execute_result"
    }
   ],
   "source": [
    "context_text = \"\\n\\n\".join(doc.page_content for doc in retrieved_docs)\n",
    "context_text"
   ]
  },
  {
   "cell_type": "code",
   "execution_count": 14,
   "id": "2dc19533",
   "metadata": {},
   "outputs": [],
   "source": [
    "prompt = PromptTemplate(\n",
    "    template=\"\"\"\n",
    "      You are a helpful assistant.\n",
    "      Answer ONLY from the provided transcript context.\n",
    "      If the context is insufficient, just say you don't know.\n",
    "\n",
    "      {context}\n",
    "      Question: {question}\n",
    "    \"\"\",\n",
    "    input_variables = ['context', 'question']\n",
    ")"
   ]
  },
  {
   "cell_type": "code",
   "execution_count": 15,
   "id": "a37b36ae-f4a5-4f91-9023-604ee74b64c2",
   "metadata": {},
   "outputs": [
    {
     "data": {
      "text/plain": [
       "StringPromptValue(text=\"\\n      You are a helpful assistant.\\n      Answer ONLY from the provided transcript context.\\n      If the context is insufficient, just say you don't know.\\n\\n      like also the result will obviously look at this and then the result doesn't look like it and I'm like okay I thought I understood yeah but that's why it's really cool to literally code you run it in a notebook and it gives you a result and you're like oh wow yes and like actual numbers actual input X you know actual code yeah it's not mathematical symbols Etc the source of Truth is the code it's not slides it's just like let's build it it's beautiful you're a rare human in that sense\\n\\nis many times people compare themselves to others in the area I think this is very harmful only compare yourself to you from some time ago like say a year ago are you better than you year ago this is the only way to think um and I think this then you can see your progress and it's very motivating that's so interesting that focus on the quantity of ours because I think a lot of people uh in the beginner stage but actually throughout get paralyzed uh by uh the choice like which one do I pick this path or this path yeah like they'll literally get paralyzed by like which ID to use well they're worried yeah they're worried about all these things but the thing is some of the you you will waste time doing something wrong yes you will eventually figure out it's not right you will accumulate scar tissue and next time you'll grow stronger because next time you'll have the scar tissue and next time you'll learn from it and now next time you come into a similar situation you'll be like all right\\n\\nuh what do you love about teaching you seem to find yourself often in the like drawn to teaching you're very good at it but you're also drawn to it I mean I don't think I love teaching I love happy humans and happy humans like when I teach yes I I wouldn't say I hate teaching I tolerate teaching but it's not like the act of teaching that I like it's it's that um you know I I have some I have something I'm actually okay at it yes I'm okay at teaching and people appreciate it a lot yeah and uh so I'm just happy to try to be helpful and uh teaching itself is not like the most I mean it's really no it can be really annoying frustrating I was working on a bunch of lectures just now I was reminded back to my days of 231 and just how much work it is to create some of these materials and make them good the amount of iteration and thought and you go down blind alleys and just how much you change it so creating something good um in terms of like educational value is really hard and uh it's not\\n\\ntissue and next time you'll grow stronger because next time you'll have the scar tissue and next time you'll learn from it and now next time you come into a similar situation you'll be like all right I messed up I've spent a lot of time working on things that never materialize into anything and I have all that scar tissue and I have some intuitions about what was useful what wasn't useful how things turned out so all those mistakes were uh were not dead work you know so I just think you should just focus on working what have you done what have you done last week uh that's a good question actually to ask for for a lot of things not just machine learning um it's a good way to cut the the I forgot what the term will use but the fluff the blubber whatever the uh the inefficiencies in life uh what do you love about teaching you seem to find yourself often in the like drawn to teaching you're very good at it but you're also drawn to it I mean I don't think I love teaching I love happy\\n      Question: what is the conversation going on?\\n    \")"
      ]
     },
     "execution_count": 15,
     "metadata": {},
     "output_type": "execute_result"
    }
   ],
   "source": [
    "final_prompt = prompt.invoke({\"context\": context_text, \"question\": question})\n",
    "final_prompt"
   ]
  },
  {
   "cell_type": "code",
   "execution_count": 16,
   "id": "4e1f4503-1881-4631-a22f-cb94da593e0d",
   "metadata": {},
   "outputs": [],
   "source": [
    "llm = ChatGoogleGenerativeAI(\n",
    "    model=\"gemini-2.5-flash\",\n",
    "    temperature=0,\n",
    "    max_tokens=None,\n",
    "    timeout=None,\n",
    "    max_retries=2,\n",
    ")"
   ]
  },
  {
   "cell_type": "code",
   "execution_count": 17,
   "id": "f8ad45da-7ab5-47b7-89aa-dbcc55506d2a",
   "metadata": {},
   "outputs": [
    {
     "name": "stdout",
     "output_type": "stream",
     "text": [
      "The conversation covers several topics:\n",
      "\n",
      "1.  **Learning and Understanding:** The importance of coding and running actual code to understand concepts, rather than relying solely on mathematical symbols or slides.\n",
      "2.  **Personal Growth and Comparison:** The idea of comparing oneself only to their past self (e.g., a year ago) to track progress and stay motivated, rather than comparing to others.\n",
      "3.  **Learning from Mistakes:** The concept of accumulating \"scar tissue\" from doing things wrong, which leads to learning, growth, and stronger intuition for future situations.\n",
      "4.  **The Speaker's View on Teaching:** The speaker clarifies that they don't love the act of teaching itself, but rather they love making people happy and being helpful. They acknowledge that they are good at teaching and people appreciate it, but also highlight how difficult, annoying, and frustrating it can be to create good educational materials.\n",
      "5.  **Focus on Action:** The importance of focusing on what one has actually \"done\" to cut inefficiencies in life.\n"
     ]
    }
   ],
   "source": [
    "answer = llm.invoke(final_prompt)\n",
    "print(answer.content)"
   ]
  },
  {
   "cell_type": "code",
   "execution_count": 36,
   "id": "a42e401c-2778-41a3-9514-50e2669ba0cd",
   "metadata": {},
   "outputs": [],
   "source": [
    "def format_docs(retrieved_docs):\n",
    "  context_text = \"\\n\\n\".join(doc.page_content for doc in retrieved_docs)\n",
    "  return context_text"
   ]
  },
  {
   "cell_type": "code",
   "execution_count": 37,
   "id": "f2b563bd-e4f6-48d8-931f-f9c1e7f16143",
   "metadata": {},
   "outputs": [],
   "source": [
    "parallel_chain = RunnableParallel({\n",
    "    'context': retriever | RunnableLambda(format_docs),\n",
    "    'question': RunnablePassthrough()\n",
    "})"
   ]
  },
  {
   "cell_type": "code",
   "execution_count": 45,
   "id": "cb327e1c-e1a9-4cb0-b5ca-d1502c2c53e9",
   "metadata": {},
   "outputs": [],
   "source": [
    "class CleanStrOutputParser(StrOutputParser):\n",
    "    def parse(self, text: str) -> str:\n",
    "        # Flatten whitespace and strip markdown characters\n",
    "        return text.replace(\"\\\\n\", \"\\n\").replace(\"*\", \"\").strip()"
   ]
  },
  {
   "cell_type": "code",
   "execution_count": 46,
   "id": "4fb249bd-588a-467d-8bfe-59b918bfb337",
   "metadata": {},
   "outputs": [],
   "source": [
    "parser = CleanStrOutputParser()"
   ]
  },
  {
   "cell_type": "code",
   "execution_count": 47,
   "id": "4079f424-9087-45ee-9b1b-3dde365a6f99",
   "metadata": {},
   "outputs": [],
   "source": [
    "main_chain = parallel_chain | prompt | llm | parser"
   ]
  },
  {
   "cell_type": "code",
   "execution_count": 48,
   "id": "0dd4010b-5c22-4d06-a20e-6f7f0514f1d8",
   "metadata": {},
   "outputs": [
    {
     "data": {
      "text/plain": [
       "'This video segment includes:\\n\\n   A closing statement for a podcast, thanking sponsors and featuring a quote from Edsger Dijkstra: \"Computer science is no more about computers than astronomy is about telescopes.\"\\n   A discussion about the need for more fundamental and simpler explanations in physics, suggesting that the current standard model is insufficient.\\n   Advice on self-improvement, emphasizing the importance of identifying and honing unique skills and strengths, and combining them with passions to make a difference.\\n   A brief segment of \"quick questions\" about Demis\\'s daily habits, such as wake-up time, coffee consumption, and computer use.\\n   A reflection on creativity and intelligence, highlighting the ability of great scientists to uniquely combine known information and the power of deeply understanding a large body of knowledge (like many Wikipedia pages) for constructing thought experiments.'"
      ]
     },
     "execution_count": 48,
     "metadata": {},
     "output_type": "execute_result"
    }
   ],
   "source": [
    "main_chain.invoke('Can you summarize the video?')"
   ]
  }
 ],
 "metadata": {
  "kernelspec": {
   "display_name": "Python 3",
   "language": "python",
   "name": "python3"
  },
  "language_info": {
   "codemirror_mode": {
    "name": "ipython",
    "version": 3
   },
   "file_extension": ".py",
   "mimetype": "text/x-python",
   "name": "python",
   "nbconvert_exporter": "python",
   "pygments_lexer": "ipython3",
   "version": "3.13.3"
  }
 },
 "nbformat": 4,
 "nbformat_minor": 5
}
